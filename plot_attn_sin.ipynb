{
 "metadata": {
  "language_info": {
   "codemirror_mode": {
    "name": "ipython",
    "version": 3
   },
   "file_extension": ".py",
   "mimetype": "text/x-python",
   "name": "python",
   "nbconvert_exporter": "python",
   "pygments_lexer": "ipython3",
   "version": "3.8.5"
  },
  "orig_nbformat": 4,
  "kernelspec": {
   "name": "python3",
   "display_name": "Python 3.8.5 64-bit ('base': conda)"
  },
  "interpreter": {
   "hash": "8a25e0a7b34cd1d4a1614554bb095d14e8163f5d4081192f81bdf6cdcd9de2f3"
  }
 },
 "nbformat": 4,
 "nbformat_minor": 2,
 "cells": [
  {
   "cell_type": "code",
   "execution_count": 1,
   "metadata": {},
   "outputs": [],
   "source": [
    "import os\n",
    "import numpy as np\n",
    "import random\n",
    "import copy\n",
    "\n",
    "import matplotlib.pyplot as plt\n",
    "plt.rc(\"font\", size=8)\n",
    "\n",
    "import seaborn as sns\n",
    "# import matplotlib.pylab as plt\n",
    "\n",
    "from tqdm import tqdm\n",
    "\n",
    "import torch\n",
    "import torch.nn as nn\n",
    "import torch.nn.functional as F\n",
    "import torch.optim as optim\n",
    "\n",
    "from torch.utils.data import DataLoader\n",
    "\n",
    "from dataloader import NoisySineDataset, CleanSineDataset\n",
    "from models import RNNEncoder, RNNDecoder, Seq2SeqAttn\n",
    "from data_utils import pad_collate"
   ]
  },
  {
   "cell_type": "code",
   "execution_count": 2,
   "metadata": {},
   "outputs": [],
   "source": [
    "k = ReverseDataset()\n",
    "\n",
    "k_dataloader = DataLoader(\n",
    "    k,\n",
    "    batch_size=2,\n",
    "    shuffle=False,\n",
    "    num_workers=0,\n",
    "    drop_last=True,\n",
    "    collate_fn=pad_collate,\n",
    ")"
   ]
  },
  {
   "cell_type": "code",
   "execution_count": 3,
   "metadata": {},
   "outputs": [
    {
     "output_type": "execute_result",
     "data": {
      "text/plain": [
       "<All keys matched successfully>"
      ]
     },
     "metadata": {},
     "execution_count": 3
    }
   ],
   "source": [
    "device = torch.device(\"cuda\" if torch.cuda.is_available() else \"cpu\")\n",
    "# e = RNNEncoder(input_dim=1)\n",
    "# d= RNNDecoder(input_dim=(e.input_size + e.hidden_size), hidden_size= e.hidden_size)\n",
    "\n",
    "e = RNNEncoder(input_dim=1, bidirectional=True)\n",
    "d= RNNDecoder(input_dim=(e.input_size + e.hidden_size*2), hidden_size= e.hidden_size, bidirectional=True)\n",
    "\n",
    "model = Seq2SeqAttn(encoder=e, decoder=d).to(device)\n",
    "model.load_state_dict(torch.load(\"seq2seq_all_attn_weights_bi_150.pt\"))"
   ]
  },
  {
   "cell_type": "code",
   "execution_count": 8,
   "metadata": {},
   "outputs": [],
   "source": [
    "for x, y, lens in k_dataloader:\n",
    "    x, y = x.to(device), y.to(device)\n",
    "    decoded_rev, all_attn = model(x, lens)\n",
    "    break"
   ]
  },
  {
   "cell_type": "code",
   "execution_count": 5,
   "metadata": {},
   "outputs": [],
   "source": [
    "def plot_attn(x, y, all_attn, lens):\n",
    "    longest_seq_index = torch.argmax(lens).item()\n",
    "    attn_matrix = all_attn[:, longest_seq_index, :].detach().cpu().numpy()\n",
    "    ax = sns.heatmap(attn_matrix, linewidth=0.5)\n",
    "    img_name = \"1_bi_attn_weights.png\"\n",
    "    ax.figure.savefig(img_name)"
   ]
  },
  {
   "cell_type": "code",
   "execution_count": 9,
   "metadata": {},
   "outputs": [
    {
     "output_type": "display_data",
     "data": {
      "text/plain": "<Figure size 432x288 with 2 Axes>",
      "image/svg+xml": "<?xml version=\"1.0\" encoding=\"utf-8\" standalone=\"no\"?>\r\n<!DOCTYPE svg PUBLIC \"-//W3C//DTD SVG 1.1//EN\"\r\n  \"http://www.w3.org/Graphics/SVG/1.1/DTD/svg11.dtd\">\r\n<!-- Created with matplotlib (https://matplotlib.org/) -->\r\n<svg height=\"246.5825pt\" version=\"1.1\" viewBox=\"0 0 344.317 246.5825\" width=\"344.317pt\" xmlns=\"http://www.w3.org/2000/svg\" xmlns:xlink=\"http://www.w3.org/1999/xlink\">\r\n <metadata>\r\n  <rdf:RDF xmlns:cc=\"http://creativecommons.org/ns#\" xmlns:dc=\"http://purl.org/dc/elements/1.1/\" xmlns:rdf=\"http://www.w3.org/1999/02/22-rdf-syntax-ns#\">\r\n   <cc:Work>\r\n    <dc:type rdf:resource=\"http://purl.org/dc/dcmitype/StillImage\"/>\r\n    <dc:date>2021-07-18T13:07:40.934185</dc:date>\r\n    <dc:format>image/svg+xml</dc:format>\r\n    <dc:creator>\r\n     <cc:Agent>\r\n      <dc:title>Matplotlib v3.3.2, https://matplotlib.org/</dc:title>\r\n     </cc:Agent>\r\n    </dc:creator>\r\n   </cc:Work>\r\n  </rdf:RDF>\r\n </metadata>\r\n <defs>\r\n  <style type=\"text/css\">*{stroke-linecap:butt;stroke-linejoin:round;}</style>\r\n </defs>\r\n <g id=\"figure_1\">\r\n  <g id=\"patch_1\">\r\n   <path d=\"M 0 246.5825 \r\nL 344.317 246.5825 \r\nL 344.317 0 \r\nL 0 0 \r\nz\r\n\" style=\"fill:none;\"/>\r\n  </g>\r\n  <g id=\"axes_1\">\r\n   <g id=\"patch_2\">\r\n    <path d=\"M 21.9425 224.64 \r\nL 289.7825 224.64 \r\nL 289.7825 7.2 \r\nL 21.9425 7.2 \r\nz\r\n\" style=\"fill:#ffffff;\"/>\r\n   </g>\r\n   <g id=\"QuadMesh_1\">\r\n    <path clip-path=\"url(#p0801bf5cbe)\" d=\"M 21.9425 7.2 \r\nL 51.7025 7.2 \r\nL 51.7025 31.36 \r\nL 21.9425 31.36 \r\nL 21.9425 7.2 \r\n\" style=\"fill:#03051a;stroke:#ffffff;stroke-width:0.5;\"/>\r\n    <path clip-path=\"url(#p0801bf5cbe)\" d=\"M 51.7025 7.2 \r\nL 81.4625 7.2 \r\nL 81.4625 31.36 \r\nL 51.7025 31.36 \r\nL 51.7025 7.2 \r\n\" style=\"fill:#03051a;stroke:#ffffff;stroke-width:0.5;\"/>\r\n    <path clip-path=\"url(#p0801bf5cbe)\" d=\"M 81.4625 7.2 \r\nL 111.2225 7.2 \r\nL 111.2225 31.36 \r\nL 81.4625 31.36 \r\nL 81.4625 7.2 \r\n\" style=\"fill:#04051a;stroke:#ffffff;stroke-width:0.5;\"/>\r\n    <path clip-path=\"url(#p0801bf5cbe)\" d=\"M 111.2225 7.2 \r\nL 140.9825 7.2 \r\nL 140.9825 31.36 \r\nL 111.2225 31.36 \r\nL 111.2225 7.2 \r\n\" style=\"fill:#0e0b22;stroke:#ffffff;stroke-width:0.5;\"/>\r\n    <path clip-path=\"url(#p0801bf5cbe)\" d=\"M 140.9825 7.2 \r\nL 170.7425 7.2 \r\nL 170.7425 31.36 \r\nL 140.9825 31.36 \r\nL 140.9825 7.2 \r\n\" style=\"fill:#401b44;stroke:#ffffff;stroke-width:0.5;\"/>\r\n    <path clip-path=\"url(#p0801bf5cbe)\" d=\"M 170.7425 7.2 \r\nL 200.5025 7.2 \r\nL 200.5025 31.36 \r\nL 170.7425 31.36 \r\nL 170.7425 7.2 \r\n\" style=\"fill:#a4195b;stroke:#ffffff;stroke-width:0.5;\"/>\r\n    <path clip-path=\"url(#p0801bf5cbe)\" d=\"M 200.5025 7.2 \r\nL 230.2625 7.2 \r\nL 230.2625 31.36 \r\nL 200.5025 31.36 \r\nL 200.5025 7.2 \r\n\" style=\"fill:#d92847;stroke:#ffffff;stroke-width:0.5;\"/>\r\n    <path clip-path=\"url(#p0801bf5cbe)\" d=\"M 230.2625 7.2 \r\nL 260.0225 7.2 \r\nL 260.0225 31.36 \r\nL 230.2625 31.36 \r\nL 230.2625 7.2 \r\n\" style=\"fill:#971c5b;stroke:#ffffff;stroke-width:0.5;\"/>\r\n    <path clip-path=\"url(#p0801bf5cbe)\" d=\"M 260.0225 7.2 \r\nL 289.7825 7.2 \r\nL 289.7825 31.36 \r\nL 260.0225 31.36 \r\nL 260.0225 7.2 \r\n\" style=\"fill:#3c1a42;stroke:#ffffff;stroke-width:0.5;\"/>\r\n    <path clip-path=\"url(#p0801bf5cbe)\" d=\"M 21.9425 31.36 \r\nL 51.7025 31.36 \r\nL 51.7025 55.52 \r\nL 21.9425 55.52 \r\nL 21.9425 31.36 \r\n\" style=\"fill:#03051a;stroke:#ffffff;stroke-width:0.5;\"/>\r\n    <path clip-path=\"url(#p0801bf5cbe)\" d=\"M 51.7025 31.36 \r\nL 81.4625 31.36 \r\nL 81.4625 55.52 \r\nL 51.7025 55.52 \r\nL 51.7025 31.36 \r\n\" style=\"fill:#03051a;stroke:#ffffff;stroke-width:0.5;\"/>\r\n    <path clip-path=\"url(#p0801bf5cbe)\" d=\"M 81.4625 31.36 \r\nL 111.2225 31.36 \r\nL 111.2225 55.52 \r\nL 81.4625 55.52 \r\nL 81.4625 31.36 \r\n\" style=\"fill:#05061b;stroke:#ffffff;stroke-width:0.5;\"/>\r\n    <path clip-path=\"url(#p0801bf5cbe)\" d=\"M 111.2225 31.36 \r\nL 140.9825 31.36 \r\nL 140.9825 55.52 \r\nL 111.2225 55.52 \r\nL 111.2225 31.36 \r\n\" style=\"fill:#140e26;stroke:#ffffff;stroke-width:0.5;\"/>\r\n    <path clip-path=\"url(#p0801bf5cbe)\" d=\"M 140.9825 31.36 \r\nL 170.7425 31.36 \r\nL 170.7425 55.52 \r\nL 140.9825 55.52 \r\nL 140.9825 31.36 \r\n\" style=\"fill:#4e1d4b;stroke:#ffffff;stroke-width:0.5;\"/>\r\n    <path clip-path=\"url(#p0801bf5cbe)\" d=\"M 170.7425 31.36 \r\nL 200.5025 31.36 \r\nL 200.5025 55.52 \r\nL 170.7425 55.52 \r\nL 170.7425 31.36 \r\n\" style=\"fill:#b21758;stroke:#ffffff;stroke-width:0.5;\"/>\r\n    <path clip-path=\"url(#p0801bf5cbe)\" d=\"M 200.5025 31.36 \r\nL 230.2625 31.36 \r\nL 230.2625 55.52 \r\nL 200.5025 55.52 \r\nL 200.5025 31.36 \r\n\" style=\"fill:#d92847;stroke:#ffffff;stroke-width:0.5;\"/>\r\n    <path clip-path=\"url(#p0801bf5cbe)\" d=\"M 230.2625 31.36 \r\nL 260.0225 31.36 \r\nL 260.0225 55.52 \r\nL 230.2625 55.52 \r\nL 230.2625 31.36 \r\n\" style=\"fill:#811e5a;stroke:#ffffff;stroke-width:0.5;\"/>\r\n    <path clip-path=\"url(#p0801bf5cbe)\" d=\"M 260.0225 31.36 \r\nL 289.7825 31.36 \r\nL 289.7825 55.52 \r\nL 260.0225 55.52 \r\nL 260.0225 31.36 \r\n\" style=\"fill:#30173a;stroke:#ffffff;stroke-width:0.5;\"/>\r\n    <path clip-path=\"url(#p0801bf5cbe)\" d=\"M 21.9425 55.52 \r\nL 51.7025 55.52 \r\nL 51.7025 79.68 \r\nL 21.9425 79.68 \r\nL 21.9425 55.52 \r\n\" style=\"fill:#03051a;stroke:#ffffff;stroke-width:0.5;\"/>\r\n    <path clip-path=\"url(#p0801bf5cbe)\" d=\"M 51.7025 55.52 \r\nL 81.4625 55.52 \r\nL 81.4625 79.68 \r\nL 51.7025 79.68 \r\nL 51.7025 55.52 \r\n\" style=\"fill:#04051a;stroke:#ffffff;stroke-width:0.5;\"/>\r\n    <path clip-path=\"url(#p0801bf5cbe)\" d=\"M 81.4625 55.52 \r\nL 111.2225 55.52 \r\nL 111.2225 79.68 \r\nL 81.4625 79.68 \r\nL 81.4625 55.52 \r\n\" style=\"fill:#0a091f;stroke:#ffffff;stroke-width:0.5;\"/>\r\n    <path clip-path=\"url(#p0801bf5cbe)\" d=\"M 111.2225 55.52 \r\nL 140.9825 55.52 \r\nL 140.9825 79.68 \r\nL 111.2225 79.68 \r\nL 111.2225 55.52 \r\n\" style=\"fill:#271534;stroke:#ffffff;stroke-width:0.5;\"/>\r\n    <path clip-path=\"url(#p0801bf5cbe)\" d=\"M 140.9825 55.52 \r\nL 170.7425 55.52 \r\nL 170.7425 79.68 \r\nL 140.9825 79.68 \r\nL 140.9825 55.52 \r\n\" style=\"fill:#981b5b;stroke:#ffffff;stroke-width:0.5;\"/>\r\n    <path clip-path=\"url(#p0801bf5cbe)\" d=\"M 170.7425 55.52 \r\nL 200.5025 55.52 \r\nL 200.5025 79.68 \r\nL 170.7425 79.68 \r\nL 170.7425 55.52 \r\n\" style=\"fill:#ee543f;stroke:#ffffff;stroke-width:0.5;\"/>\r\n    <path clip-path=\"url(#p0801bf5cbe)\" d=\"M 200.5025 55.52 \r\nL 230.2625 55.52 \r\nL 230.2625 79.68 \r\nL 200.5025 79.68 \r\nL 200.5025 55.52 \r\n\" style=\"fill:#8b1d5b;stroke:#ffffff;stroke-width:0.5;\"/>\r\n    <path clip-path=\"url(#p0801bf5cbe)\" d=\"M 230.2625 55.52 \r\nL 260.0225 55.52 \r\nL 260.0225 79.68 \r\nL 230.2625 79.68 \r\nL 230.2625 55.52 \r\n\" style=\"fill:#35193e;stroke:#ffffff;stroke-width:0.5;\"/>\r\n    <path clip-path=\"url(#p0801bf5cbe)\" d=\"M 260.0225 55.52 \r\nL 289.7825 55.52 \r\nL 289.7825 79.68 \r\nL 260.0225 79.68 \r\nL 260.0225 55.52 \r\n\" style=\"fill:#140e26;stroke:#ffffff;stroke-width:0.5;\"/>\r\n    <path clip-path=\"url(#p0801bf5cbe)\" d=\"M 21.9425 79.68 \r\nL 51.7025 79.68 \r\nL 51.7025 103.84 \r\nL 21.9425 103.84 \r\nL 21.9425 79.68 \r\n\" style=\"fill:#04051a;stroke:#ffffff;stroke-width:0.5;\"/>\r\n    <path clip-path=\"url(#p0801bf5cbe)\" d=\"M 51.7025 79.68 \r\nL 81.4625 79.68 \r\nL 81.4625 103.84 \r\nL 51.7025 103.84 \r\nL 51.7025 79.68 \r\n\" style=\"fill:#08081e;stroke:#ffffff;stroke-width:0.5;\"/>\r\n    <path clip-path=\"url(#p0801bf5cbe)\" d=\"M 81.4625 79.68 \r\nL 111.2225 79.68 \r\nL 111.2225 103.84 \r\nL 81.4625 103.84 \r\nL 81.4625 79.68 \r\n\" style=\"fill:#1e122d;stroke:#ffffff;stroke-width:0.5;\"/>\r\n    <path clip-path=\"url(#p0801bf5cbe)\" d=\"M 111.2225 79.68 \r\nL 140.9825 79.68 \r\nL 140.9825 103.84 \r\nL 111.2225 103.84 \r\nL 111.2225 79.68 \r\n\" style=\"fill:#6e1f57;stroke:#ffffff;stroke-width:0.5;\"/>\r\n    <path clip-path=\"url(#p0801bf5cbe)\" d=\"M 140.9825 79.68 \r\nL 170.7425 79.68 \r\nL 170.7425 103.84 \r\nL 140.9825 103.84 \r\nL 140.9825 79.68 \r\n\" style=\"fill:#f37852;stroke:#ffffff;stroke-width:0.5;\"/>\r\n    <path clip-path=\"url(#p0801bf5cbe)\" d=\"M 170.7425 79.68 \r\nL 200.5025 79.68 \r\nL 200.5025 103.84 \r\nL 170.7425 103.84 \r\nL 170.7425 79.68 \r\n\" style=\"fill:#811e5a;stroke:#ffffff;stroke-width:0.5;\"/>\r\n    <path clip-path=\"url(#p0801bf5cbe)\" d=\"M 200.5025 79.68 \r\nL 230.2625 79.68 \r\nL 230.2625 103.84 \r\nL 200.5025 103.84 \r\nL 200.5025 79.68 \r\n\" style=\"fill:#37193f;stroke:#ffffff;stroke-width:0.5;\"/>\r\n    <path clip-path=\"url(#p0801bf5cbe)\" d=\"M 230.2625 79.68 \r\nL 260.0225 79.68 \r\nL 260.0225 103.84 \r\nL 230.2625 103.84 \r\nL 230.2625 79.68 \r\n\" style=\"fill:#20122e;stroke:#ffffff;stroke-width:0.5;\"/>\r\n    <path clip-path=\"url(#p0801bf5cbe)\" d=\"M 260.0225 79.68 \r\nL 289.7825 79.68 \r\nL 289.7825 103.84 \r\nL 260.0225 103.84 \r\nL 260.0225 79.68 \r\n\" style=\"fill:#100b23;stroke:#ffffff;stroke-width:0.5;\"/>\r\n    <path clip-path=\"url(#p0801bf5cbe)\" d=\"M 21.9425 103.84 \r\nL 51.7025 103.84 \r\nL 51.7025 128 \r\nL 21.9425 128 \r\nL 21.9425 103.84 \r\n\" style=\"fill:#0a091f;stroke:#ffffff;stroke-width:0.5;\"/>\r\n    <path clip-path=\"url(#p0801bf5cbe)\" d=\"M 51.7025 103.84 \r\nL 81.4625 103.84 \r\nL 81.4625 128 \r\nL 51.7025 128 \r\nL 51.7025 103.84 \r\n\" style=\"fill:#251433;stroke:#ffffff;stroke-width:0.5;\"/>\r\n    <path clip-path=\"url(#p0801bf5cbe)\" d=\"M 81.4625 103.84 \r\nL 111.2225 103.84 \r\nL 111.2225 128 \r\nL 81.4625 128 \r\nL 81.4625 103.84 \r\n\" style=\"fill:#7a1f59;stroke:#ffffff;stroke-width:0.5;\"/>\r\n    <path clip-path=\"url(#p0801bf5cbe)\" d=\"M 111.2225 103.84 \r\nL 140.9825 103.84 \r\nL 140.9825 128 \r\nL 111.2225 128 \r\nL 111.2225 103.84 \r\n\" style=\"fill:#f05e42;stroke:#ffffff;stroke-width:0.5;\"/>\r\n    <path clip-path=\"url(#p0801bf5cbe)\" d=\"M 140.9825 103.84 \r\nL 170.7425 103.84 \r\nL 170.7425 128 \r\nL 140.9825 128 \r\nL 140.9825 103.84 \r\n\" style=\"fill:#931c5b;stroke:#ffffff;stroke-width:0.5;\"/>\r\n    <path clip-path=\"url(#p0801bf5cbe)\" d=\"M 170.7425 103.84 \r\nL 200.5025 103.84 \r\nL 200.5025 128 \r\nL 170.7425 128 \r\nL 170.7425 103.84 \r\n\" style=\"fill:#2b1637;stroke:#ffffff;stroke-width:0.5;\"/>\r\n    <path clip-path=\"url(#p0801bf5cbe)\" d=\"M 200.5025 103.84 \r\nL 230.2625 103.84 \r\nL 230.2625 128 \r\nL 200.5025 128 \r\nL 200.5025 103.84 \r\n\" style=\"fill:#140e26;stroke:#ffffff;stroke-width:0.5;\"/>\r\n    <path clip-path=\"url(#p0801bf5cbe)\" d=\"M 230.2625 103.84 \r\nL 260.0225 103.84 \r\nL 260.0225 128 \r\nL 230.2625 128 \r\nL 230.2625 103.84 \r\n\" style=\"fill:#0e0b22;stroke:#ffffff;stroke-width:0.5;\"/>\r\n    <path clip-path=\"url(#p0801bf5cbe)\" d=\"M 260.0225 103.84 \r\nL 289.7825 103.84 \r\nL 289.7825 128 \r\nL 260.0225 128 \r\nL 260.0225 103.84 \r\n\" style=\"fill:#0b0920;stroke:#ffffff;stroke-width:0.5;\"/>\r\n    <path clip-path=\"url(#p0801bf5cbe)\" d=\"M 21.9425 128 \r\nL 51.7025 128 \r\nL 51.7025 152.16 \r\nL 21.9425 152.16 \r\nL 21.9425 128 \r\n\" style=\"fill:#241432;stroke:#ffffff;stroke-width:0.5;\"/>\r\n    <path clip-path=\"url(#p0801bf5cbe)\" d=\"M 51.7025 128 \r\nL 81.4625 128 \r\nL 81.4625 152.16 \r\nL 51.7025 152.16 \r\nL 51.7025 128 \r\n\" style=\"fill:#7f1e5a;stroke:#ffffff;stroke-width:0.5;\"/>\r\n    <path clip-path=\"url(#p0801bf5cbe)\" d=\"M 81.4625 128 \r\nL 111.2225 128 \r\nL 111.2225 152.16 \r\nL 81.4625 152.16 \r\nL 81.4625 128 \r\n\" style=\"fill:#f4845d;stroke:#ffffff;stroke-width:0.5;\"/>\r\n    <path clip-path=\"url(#p0801bf5cbe)\" d=\"M 111.2225 128 \r\nL 140.9825 128 \r\nL 140.9825 152.16 \r\nL 111.2225 152.16 \r\nL 111.2225 128 \r\n\" style=\"fill:#811e5a;stroke:#ffffff;stroke-width:0.5;\"/>\r\n    <path clip-path=\"url(#p0801bf5cbe)\" d=\"M 140.9825 128 \r\nL 170.7425 128 \r\nL 170.7425 152.16 \r\nL 140.9825 152.16 \r\nL 140.9825 128 \r\n\" style=\"fill:#34193d;stroke:#ffffff;stroke-width:0.5;\"/>\r\n    <path clip-path=\"url(#p0801bf5cbe)\" d=\"M 170.7425 128 \r\nL 200.5025 128 \r\nL 200.5025 152.16 \r\nL 170.7425 152.16 \r\nL 170.7425 128 \r\n\" style=\"fill:#100b23;stroke:#ffffff;stroke-width:0.5;\"/>\r\n    <path clip-path=\"url(#p0801bf5cbe)\" d=\"M 200.5025 128 \r\nL 230.2625 128 \r\nL 230.2625 152.16 \r\nL 200.5025 152.16 \r\nL 200.5025 128 \r\n\" style=\"fill:#07071d;stroke:#ffffff;stroke-width:0.5;\"/>\r\n    <path clip-path=\"url(#p0801bf5cbe)\" d=\"M 230.2625 128 \r\nL 260.0225 128 \r\nL 260.0225 152.16 \r\nL 230.2625 152.16 \r\nL 230.2625 128 \r\n\" style=\"fill:#05061b;stroke:#ffffff;stroke-width:0.5;\"/>\r\n    <path clip-path=\"url(#p0801bf5cbe)\" d=\"M 260.0225 128 \r\nL 289.7825 128 \r\nL 289.7825 152.16 \r\nL 260.0225 152.16 \r\nL 260.0225 128 \r\n\" style=\"fill:#05061b;stroke:#ffffff;stroke-width:0.5;\"/>\r\n    <path clip-path=\"url(#p0801bf5cbe)\" d=\"M 21.9425 152.16 \r\nL 51.7025 152.16 \r\nL 51.7025 176.32 \r\nL 21.9425 176.32 \r\nL 21.9425 152.16 \r\n\" style=\"fill:#751f58;stroke:#ffffff;stroke-width:0.5;\"/>\r\n    <path clip-path=\"url(#p0801bf5cbe)\" d=\"M 51.7025 152.16 \r\nL 81.4625 152.16 \r\nL 81.4625 176.32 \r\nL 51.7025 176.32 \r\nL 51.7025 152.16 \r\n\" style=\"fill:#f59269;stroke:#ffffff;stroke-width:0.5;\"/>\r\n    <path clip-path=\"url(#p0801bf5cbe)\" d=\"M 81.4625 152.16 \r\nL 111.2225 152.16 \r\nL 111.2225 176.32 \r\nL 81.4625 176.32 \r\nL 81.4625 152.16 \r\n\" style=\"fill:#a4195b;stroke:#ffffff;stroke-width:0.5;\"/>\r\n    <path clip-path=\"url(#p0801bf5cbe)\" d=\"M 111.2225 152.16 \r\nL 140.9825 152.16 \r\nL 140.9825 176.32 \r\nL 111.2225 176.32 \r\nL 111.2225 152.16 \r\n\" style=\"fill:#35193e;stroke:#ffffff;stroke-width:0.5;\"/>\r\n    <path clip-path=\"url(#p0801bf5cbe)\" d=\"M 140.9825 152.16 \r\nL 170.7425 152.16 \r\nL 170.7425 176.32 \r\nL 140.9825 176.32 \r\nL 140.9825 152.16 \r\n\" style=\"fill:#160e27;stroke:#ffffff;stroke-width:0.5;\"/>\r\n    <path clip-path=\"url(#p0801bf5cbe)\" d=\"M 170.7425 152.16 \r\nL 200.5025 152.16 \r\nL 200.5025 176.32 \r\nL 170.7425 176.32 \r\nL 170.7425 152.16 \r\n\" style=\"fill:#06071c;stroke:#ffffff;stroke-width:0.5;\"/>\r\n    <path clip-path=\"url(#p0801bf5cbe)\" d=\"M 200.5025 152.16 \r\nL 230.2625 152.16 \r\nL 230.2625 176.32 \r\nL 200.5025 176.32 \r\nL 200.5025 152.16 \r\n\" style=\"fill:#04051a;stroke:#ffffff;stroke-width:0.5;\"/>\r\n    <path clip-path=\"url(#p0801bf5cbe)\" d=\"M 230.2625 152.16 \r\nL 260.0225 152.16 \r\nL 260.0225 176.32 \r\nL 230.2625 176.32 \r\nL 230.2625 152.16 \r\n\" style=\"fill:#03051a;stroke:#ffffff;stroke-width:0.5;\"/>\r\n    <path clip-path=\"url(#p0801bf5cbe)\" d=\"M 260.0225 152.16 \r\nL 289.7825 152.16 \r\nL 289.7825 176.32 \r\nL 260.0225 176.32 \r\nL 260.0225 152.16 \r\n\" style=\"fill:#04051a;stroke:#ffffff;stroke-width:0.5;\"/>\r\n    <path clip-path=\"url(#p0801bf5cbe)\" d=\"M 21.9425 176.32 \r\nL 51.7025 176.32 \r\nL 51.7025 200.48 \r\nL 21.9425 200.48 \r\nL 21.9425 176.32 \r\n\" style=\"fill:#f6c19f;stroke:#ffffff;stroke-width:0.5;\"/>\r\n    <path clip-path=\"url(#p0801bf5cbe)\" d=\"M 51.7025 176.32 \r\nL 81.4625 176.32 \r\nL 81.4625 200.48 \r\nL 51.7025 200.48 \r\nL 51.7025 176.32 \r\n\" style=\"fill:#cd1c4e;stroke:#ffffff;stroke-width:0.5;\"/>\r\n    <path clip-path=\"url(#p0801bf5cbe)\" d=\"M 81.4625 176.32 \r\nL 111.2225 176.32 \r\nL 111.2225 200.48 \r\nL 81.4625 200.48 \r\nL 81.4625 176.32 \r\n\" style=\"fill:#501d4c;stroke:#ffffff;stroke-width:0.5;\"/>\r\n    <path clip-path=\"url(#p0801bf5cbe)\" d=\"M 111.2225 176.32 \r\nL 140.9825 176.32 \r\nL 140.9825 200.48 \r\nL 111.2225 200.48 \r\nL 111.2225 176.32 \r\n\" style=\"fill:#180f29;stroke:#ffffff;stroke-width:0.5;\"/>\r\n    <path clip-path=\"url(#p0801bf5cbe)\" d=\"M 140.9825 176.32 \r\nL 170.7425 176.32 \r\nL 170.7425 200.48 \r\nL 140.9825 200.48 \r\nL 140.9825 176.32 \r\n\" style=\"fill:#0a091f;stroke:#ffffff;stroke-width:0.5;\"/>\r\n    <path clip-path=\"url(#p0801bf5cbe)\" d=\"M 170.7425 176.32 \r\nL 200.5025 176.32 \r\nL 200.5025 200.48 \r\nL 170.7425 200.48 \r\nL 170.7425 176.32 \r\n\" style=\"fill:#04051a;stroke:#ffffff;stroke-width:0.5;\"/>\r\n    <path clip-path=\"url(#p0801bf5cbe)\" d=\"M 200.5025 176.32 \r\nL 230.2625 176.32 \r\nL 230.2625 200.48 \r\nL 200.5025 200.48 \r\nL 200.5025 176.32 \r\n\" style=\"fill:#03051a;stroke:#ffffff;stroke-width:0.5;\"/>\r\n    <path clip-path=\"url(#p0801bf5cbe)\" d=\"M 230.2625 176.32 \r\nL 260.0225 176.32 \r\nL 260.0225 200.48 \r\nL 230.2625 200.48 \r\nL 230.2625 176.32 \r\n\" style=\"fill:#03051a;stroke:#ffffff;stroke-width:0.5;\"/>\r\n    <path clip-path=\"url(#p0801bf5cbe)\" d=\"M 260.0225 176.32 \r\nL 289.7825 176.32 \r\nL 289.7825 200.48 \r\nL 260.0225 200.48 \r\nL 260.0225 176.32 \r\n\" style=\"fill:#03051a;stroke:#ffffff;stroke-width:0.5;\"/>\r\n    <path clip-path=\"url(#p0801bf5cbe)\" d=\"M 21.9425 200.48 \r\nL 51.7025 200.48 \r\nL 51.7025 224.64 \r\nL 21.9425 224.64 \r\nL 21.9425 200.48 \r\n\" style=\"fill:#faebdd;stroke:#ffffff;stroke-width:0.5;\"/>\r\n    <path clip-path=\"url(#p0801bf5cbe)\" d=\"M 51.7025 200.48 \r\nL 81.4625 200.48 \r\nL 81.4625 224.64 \r\nL 51.7025 224.64 \r\nL 51.7025 200.48 \r\n\" style=\"fill:#b51657;stroke:#ffffff;stroke-width:0.5;\"/>\r\n    <path clip-path=\"url(#p0801bf5cbe)\" d=\"M 81.4625 200.48 \r\nL 111.2225 200.48 \r\nL 111.2225 224.64 \r\nL 81.4625 224.64 \r\nL 81.4625 200.48 \r\n\" style=\"fill:#421b45;stroke:#ffffff;stroke-width:0.5;\"/>\r\n    <path clip-path=\"url(#p0801bf5cbe)\" d=\"M 111.2225 200.48 \r\nL 140.9825 200.48 \r\nL 140.9825 224.64 \r\nL 111.2225 224.64 \r\nL 111.2225 200.48 \r\n\" style=\"fill:#140e26;stroke:#ffffff;stroke-width:0.5;\"/>\r\n    <path clip-path=\"url(#p0801bf5cbe)\" d=\"M 140.9825 200.48 \r\nL 170.7425 200.48 \r\nL 170.7425 224.64 \r\nL 140.9825 224.64 \r\nL 140.9825 200.48 \r\n\" style=\"fill:#08081e;stroke:#ffffff;stroke-width:0.5;\"/>\r\n    <path clip-path=\"url(#p0801bf5cbe)\" d=\"M 170.7425 200.48 \r\nL 200.5025 200.48 \r\nL 200.5025 224.64 \r\nL 170.7425 224.64 \r\nL 170.7425 200.48 \r\n\" style=\"fill:#04051a;stroke:#ffffff;stroke-width:0.5;\"/>\r\n    <path clip-path=\"url(#p0801bf5cbe)\" d=\"M 200.5025 200.48 \r\nL 230.2625 200.48 \r\nL 230.2625 224.64 \r\nL 200.5025 224.64 \r\nL 200.5025 200.48 \r\n\" style=\"fill:#03051a;stroke:#ffffff;stroke-width:0.5;\"/>\r\n    <path clip-path=\"url(#p0801bf5cbe)\" d=\"M 230.2625 200.48 \r\nL 260.0225 200.48 \r\nL 260.0225 224.64 \r\nL 230.2625 224.64 \r\nL 230.2625 200.48 \r\n\" style=\"fill:#03051a;stroke:#ffffff;stroke-width:0.5;\"/>\r\n    <path clip-path=\"url(#p0801bf5cbe)\" d=\"M 260.0225 200.48 \r\nL 289.7825 200.48 \r\nL 289.7825 224.64 \r\nL 260.0225 224.64 \r\nL 260.0225 200.48 \r\n\" style=\"fill:#03051a;stroke:#ffffff;stroke-width:0.5;\"/>\r\n   </g>\r\n   <g id=\"matplotlib.axis_1\">\r\n    <g id=\"xtick_1\">\r\n     <g id=\"line2d_1\">\r\n      <defs>\r\n       <path d=\"M 0 0 \r\nL 0 3.5 \r\n\" id=\"mbab22fbf9a\" style=\"stroke:#000000;stroke-width:0.8;\"/>\r\n      </defs>\r\n      <g>\r\n       <use style=\"stroke:#000000;stroke-width:0.8;\" x=\"36.8225\" xlink:href=\"#mbab22fbf9a\" y=\"224.64\"/>\r\n      </g>\r\n     </g>\r\n     <g id=\"text_1\">\r\n      <!-- 0 -->\r\n      <g transform=\"translate(34.2775 237.71875)scale(0.08 -0.08)\">\r\n       <defs>\r\n        <path d=\"M 31.78125 66.40625 \r\nQ 24.171875 66.40625 20.328125 58.90625 \r\nQ 16.5 51.421875 16.5 36.375 \r\nQ 16.5 21.390625 20.328125 13.890625 \r\nQ 24.171875 6.390625 31.78125 6.390625 \r\nQ 39.453125 6.390625 43.28125 13.890625 \r\nQ 47.125 21.390625 47.125 36.375 \r\nQ 47.125 51.421875 43.28125 58.90625 \r\nQ 39.453125 66.40625 31.78125 66.40625 \r\nz\r\nM 31.78125 74.21875 \r\nQ 44.046875 74.21875 50.515625 64.515625 \r\nQ 56.984375 54.828125 56.984375 36.375 \r\nQ 56.984375 17.96875 50.515625 8.265625 \r\nQ 44.046875 -1.421875 31.78125 -1.421875 \r\nQ 19.53125 -1.421875 13.0625 8.265625 \r\nQ 6.59375 17.96875 6.59375 36.375 \r\nQ 6.59375 54.828125 13.0625 64.515625 \r\nQ 19.53125 74.21875 31.78125 74.21875 \r\nz\r\n\" id=\"DejaVuSans-48\"/>\r\n       </defs>\r\n       <use xlink:href=\"#DejaVuSans-48\"/>\r\n      </g>\r\n     </g>\r\n    </g>\r\n    <g id=\"xtick_2\">\r\n     <g id=\"line2d_2\">\r\n      <g>\r\n       <use style=\"stroke:#000000;stroke-width:0.8;\" x=\"66.5825\" xlink:href=\"#mbab22fbf9a\" y=\"224.64\"/>\r\n      </g>\r\n     </g>\r\n     <g id=\"text_2\">\r\n      <!-- 1 -->\r\n      <g transform=\"translate(64.0375 237.71875)scale(0.08 -0.08)\">\r\n       <defs>\r\n        <path d=\"M 12.40625 8.296875 \r\nL 28.515625 8.296875 \r\nL 28.515625 63.921875 \r\nL 10.984375 60.40625 \r\nL 10.984375 69.390625 \r\nL 28.421875 72.90625 \r\nL 38.28125 72.90625 \r\nL 38.28125 8.296875 \r\nL 54.390625 8.296875 \r\nL 54.390625 0 \r\nL 12.40625 0 \r\nz\r\n\" id=\"DejaVuSans-49\"/>\r\n       </defs>\r\n       <use xlink:href=\"#DejaVuSans-49\"/>\r\n      </g>\r\n     </g>\r\n    </g>\r\n    <g id=\"xtick_3\">\r\n     <g id=\"line2d_3\">\r\n      <g>\r\n       <use style=\"stroke:#000000;stroke-width:0.8;\" x=\"96.3425\" xlink:href=\"#mbab22fbf9a\" y=\"224.64\"/>\r\n      </g>\r\n     </g>\r\n     <g id=\"text_3\">\r\n      <!-- 2 -->\r\n      <g transform=\"translate(93.7975 237.71875)scale(0.08 -0.08)\">\r\n       <defs>\r\n        <path d=\"M 19.1875 8.296875 \r\nL 53.609375 8.296875 \r\nL 53.609375 0 \r\nL 7.328125 0 \r\nL 7.328125 8.296875 \r\nQ 12.9375 14.109375 22.625 23.890625 \r\nQ 32.328125 33.6875 34.8125 36.53125 \r\nQ 39.546875 41.84375 41.421875 45.53125 \r\nQ 43.3125 49.21875 43.3125 52.78125 \r\nQ 43.3125 58.59375 39.234375 62.25 \r\nQ 35.15625 65.921875 28.609375 65.921875 \r\nQ 23.96875 65.921875 18.8125 64.3125 \r\nQ 13.671875 62.703125 7.8125 59.421875 \r\nL 7.8125 69.390625 \r\nQ 13.765625 71.78125 18.9375 73 \r\nQ 24.125 74.21875 28.421875 74.21875 \r\nQ 39.75 74.21875 46.484375 68.546875 \r\nQ 53.21875 62.890625 53.21875 53.421875 \r\nQ 53.21875 48.921875 51.53125 44.890625 \r\nQ 49.859375 40.875 45.40625 35.40625 \r\nQ 44.1875 33.984375 37.640625 27.21875 \r\nQ 31.109375 20.453125 19.1875 8.296875 \r\nz\r\n\" id=\"DejaVuSans-50\"/>\r\n       </defs>\r\n       <use xlink:href=\"#DejaVuSans-50\"/>\r\n      </g>\r\n     </g>\r\n    </g>\r\n    <g id=\"xtick_4\">\r\n     <g id=\"line2d_4\">\r\n      <g>\r\n       <use style=\"stroke:#000000;stroke-width:0.8;\" x=\"126.1025\" xlink:href=\"#mbab22fbf9a\" y=\"224.64\"/>\r\n      </g>\r\n     </g>\r\n     <g id=\"text_4\">\r\n      <!-- 3 -->\r\n      <g transform=\"translate(123.5575 237.71875)scale(0.08 -0.08)\">\r\n       <defs>\r\n        <path d=\"M 40.578125 39.3125 \r\nQ 47.65625 37.796875 51.625 33 \r\nQ 55.609375 28.21875 55.609375 21.1875 \r\nQ 55.609375 10.40625 48.1875 4.484375 \r\nQ 40.765625 -1.421875 27.09375 -1.421875 \r\nQ 22.515625 -1.421875 17.65625 -0.515625 \r\nQ 12.796875 0.390625 7.625 2.203125 \r\nL 7.625 11.71875 \r\nQ 11.71875 9.328125 16.59375 8.109375 \r\nQ 21.484375 6.890625 26.8125 6.890625 \r\nQ 36.078125 6.890625 40.9375 10.546875 \r\nQ 45.796875 14.203125 45.796875 21.1875 \r\nQ 45.796875 27.640625 41.28125 31.265625 \r\nQ 36.765625 34.90625 28.71875 34.90625 \r\nL 20.21875 34.90625 \r\nL 20.21875 43.015625 \r\nL 29.109375 43.015625 \r\nQ 36.375 43.015625 40.234375 45.921875 \r\nQ 44.09375 48.828125 44.09375 54.296875 \r\nQ 44.09375 59.90625 40.109375 62.90625 \r\nQ 36.140625 65.921875 28.71875 65.921875 \r\nQ 24.65625 65.921875 20.015625 65.03125 \r\nQ 15.375 64.15625 9.8125 62.3125 \r\nL 9.8125 71.09375 \r\nQ 15.4375 72.65625 20.34375 73.4375 \r\nQ 25.25 74.21875 29.59375 74.21875 \r\nQ 40.828125 74.21875 47.359375 69.109375 \r\nQ 53.90625 64.015625 53.90625 55.328125 \r\nQ 53.90625 49.265625 50.4375 45.09375 \r\nQ 46.96875 40.921875 40.578125 39.3125 \r\nz\r\n\" id=\"DejaVuSans-51\"/>\r\n       </defs>\r\n       <use xlink:href=\"#DejaVuSans-51\"/>\r\n      </g>\r\n     </g>\r\n    </g>\r\n    <g id=\"xtick_5\">\r\n     <g id=\"line2d_5\">\r\n      <g>\r\n       <use style=\"stroke:#000000;stroke-width:0.8;\" x=\"155.8625\" xlink:href=\"#mbab22fbf9a\" y=\"224.64\"/>\r\n      </g>\r\n     </g>\r\n     <g id=\"text_5\">\r\n      <!-- 4 -->\r\n      <g transform=\"translate(153.3175 237.71875)scale(0.08 -0.08)\">\r\n       <defs>\r\n        <path d=\"M 37.796875 64.3125 \r\nL 12.890625 25.390625 \r\nL 37.796875 25.390625 \r\nz\r\nM 35.203125 72.90625 \r\nL 47.609375 72.90625 \r\nL 47.609375 25.390625 \r\nL 58.015625 25.390625 \r\nL 58.015625 17.1875 \r\nL 47.609375 17.1875 \r\nL 47.609375 0 \r\nL 37.796875 0 \r\nL 37.796875 17.1875 \r\nL 4.890625 17.1875 \r\nL 4.890625 26.703125 \r\nz\r\n\" id=\"DejaVuSans-52\"/>\r\n       </defs>\r\n       <use xlink:href=\"#DejaVuSans-52\"/>\r\n      </g>\r\n     </g>\r\n    </g>\r\n    <g id=\"xtick_6\">\r\n     <g id=\"line2d_6\">\r\n      <g>\r\n       <use style=\"stroke:#000000;stroke-width:0.8;\" x=\"185.6225\" xlink:href=\"#mbab22fbf9a\" y=\"224.64\"/>\r\n      </g>\r\n     </g>\r\n     <g id=\"text_6\">\r\n      <!-- 5 -->\r\n      <g transform=\"translate(183.0775 237.71875)scale(0.08 -0.08)\">\r\n       <defs>\r\n        <path d=\"M 10.796875 72.90625 \r\nL 49.515625 72.90625 \r\nL 49.515625 64.59375 \r\nL 19.828125 64.59375 \r\nL 19.828125 46.734375 \r\nQ 21.96875 47.46875 24.109375 47.828125 \r\nQ 26.265625 48.1875 28.421875 48.1875 \r\nQ 40.625 48.1875 47.75 41.5 \r\nQ 54.890625 34.8125 54.890625 23.390625 \r\nQ 54.890625 11.625 47.5625 5.09375 \r\nQ 40.234375 -1.421875 26.90625 -1.421875 \r\nQ 22.3125 -1.421875 17.546875 -0.640625 \r\nQ 12.796875 0.140625 7.71875 1.703125 \r\nL 7.71875 11.625 \r\nQ 12.109375 9.234375 16.796875 8.0625 \r\nQ 21.484375 6.890625 26.703125 6.890625 \r\nQ 35.15625 6.890625 40.078125 11.328125 \r\nQ 45.015625 15.765625 45.015625 23.390625 \r\nQ 45.015625 31 40.078125 35.4375 \r\nQ 35.15625 39.890625 26.703125 39.890625 \r\nQ 22.75 39.890625 18.8125 39.015625 \r\nQ 14.890625 38.140625 10.796875 36.28125 \r\nz\r\n\" id=\"DejaVuSans-53\"/>\r\n       </defs>\r\n       <use xlink:href=\"#DejaVuSans-53\"/>\r\n      </g>\r\n     </g>\r\n    </g>\r\n    <g id=\"xtick_7\">\r\n     <g id=\"line2d_7\">\r\n      <g>\r\n       <use style=\"stroke:#000000;stroke-width:0.8;\" x=\"215.3825\" xlink:href=\"#mbab22fbf9a\" y=\"224.64\"/>\r\n      </g>\r\n     </g>\r\n     <g id=\"text_7\">\r\n      <!-- 6 -->\r\n      <g transform=\"translate(212.8375 237.71875)scale(0.08 -0.08)\">\r\n       <defs>\r\n        <path d=\"M 33.015625 40.375 \r\nQ 26.375 40.375 22.484375 35.828125 \r\nQ 18.609375 31.296875 18.609375 23.390625 \r\nQ 18.609375 15.53125 22.484375 10.953125 \r\nQ 26.375 6.390625 33.015625 6.390625 \r\nQ 39.65625 6.390625 43.53125 10.953125 \r\nQ 47.40625 15.53125 47.40625 23.390625 \r\nQ 47.40625 31.296875 43.53125 35.828125 \r\nQ 39.65625 40.375 33.015625 40.375 \r\nz\r\nM 52.59375 71.296875 \r\nL 52.59375 62.3125 \r\nQ 48.875 64.0625 45.09375 64.984375 \r\nQ 41.3125 65.921875 37.59375 65.921875 \r\nQ 27.828125 65.921875 22.671875 59.328125 \r\nQ 17.53125 52.734375 16.796875 39.40625 \r\nQ 19.671875 43.65625 24.015625 45.921875 \r\nQ 28.375 48.1875 33.59375 48.1875 \r\nQ 44.578125 48.1875 50.953125 41.515625 \r\nQ 57.328125 34.859375 57.328125 23.390625 \r\nQ 57.328125 12.15625 50.6875 5.359375 \r\nQ 44.046875 -1.421875 33.015625 -1.421875 \r\nQ 20.359375 -1.421875 13.671875 8.265625 \r\nQ 6.984375 17.96875 6.984375 36.375 \r\nQ 6.984375 53.65625 15.1875 63.9375 \r\nQ 23.390625 74.21875 37.203125 74.21875 \r\nQ 40.921875 74.21875 44.703125 73.484375 \r\nQ 48.484375 72.75 52.59375 71.296875 \r\nz\r\n\" id=\"DejaVuSans-54\"/>\r\n       </defs>\r\n       <use xlink:href=\"#DejaVuSans-54\"/>\r\n      </g>\r\n     </g>\r\n    </g>\r\n    <g id=\"xtick_8\">\r\n     <g id=\"line2d_8\">\r\n      <g>\r\n       <use style=\"stroke:#000000;stroke-width:0.8;\" x=\"245.1425\" xlink:href=\"#mbab22fbf9a\" y=\"224.64\"/>\r\n      </g>\r\n     </g>\r\n     <g id=\"text_8\">\r\n      <!-- 7 -->\r\n      <g transform=\"translate(242.5975 237.71875)scale(0.08 -0.08)\">\r\n       <defs>\r\n        <path d=\"M 8.203125 72.90625 \r\nL 55.078125 72.90625 \r\nL 55.078125 68.703125 \r\nL 28.609375 0 \r\nL 18.3125 0 \r\nL 43.21875 64.59375 \r\nL 8.203125 64.59375 \r\nz\r\n\" id=\"DejaVuSans-55\"/>\r\n       </defs>\r\n       <use xlink:href=\"#DejaVuSans-55\"/>\r\n      </g>\r\n     </g>\r\n    </g>\r\n    <g id=\"xtick_9\">\r\n     <g id=\"line2d_9\">\r\n      <g>\r\n       <use style=\"stroke:#000000;stroke-width:0.8;\" x=\"274.9025\" xlink:href=\"#mbab22fbf9a\" y=\"224.64\"/>\r\n      </g>\r\n     </g>\r\n     <g id=\"text_9\">\r\n      <!-- 8 -->\r\n      <g transform=\"translate(272.3575 237.71875)scale(0.08 -0.08)\">\r\n       <defs>\r\n        <path d=\"M 31.78125 34.625 \r\nQ 24.75 34.625 20.71875 30.859375 \r\nQ 16.703125 27.09375 16.703125 20.515625 \r\nQ 16.703125 13.921875 20.71875 10.15625 \r\nQ 24.75 6.390625 31.78125 6.390625 \r\nQ 38.8125 6.390625 42.859375 10.171875 \r\nQ 46.921875 13.96875 46.921875 20.515625 \r\nQ 46.921875 27.09375 42.890625 30.859375 \r\nQ 38.875 34.625 31.78125 34.625 \r\nz\r\nM 21.921875 38.8125 \r\nQ 15.578125 40.375 12.03125 44.71875 \r\nQ 8.5 49.078125 8.5 55.328125 \r\nQ 8.5 64.0625 14.71875 69.140625 \r\nQ 20.953125 74.21875 31.78125 74.21875 \r\nQ 42.671875 74.21875 48.875 69.140625 \r\nQ 55.078125 64.0625 55.078125 55.328125 \r\nQ 55.078125 49.078125 51.53125 44.71875 \r\nQ 48 40.375 41.703125 38.8125 \r\nQ 48.828125 37.15625 52.796875 32.3125 \r\nQ 56.78125 27.484375 56.78125 20.515625 \r\nQ 56.78125 9.90625 50.3125 4.234375 \r\nQ 43.84375 -1.421875 31.78125 -1.421875 \r\nQ 19.734375 -1.421875 13.25 4.234375 \r\nQ 6.78125 9.90625 6.78125 20.515625 \r\nQ 6.78125 27.484375 10.78125 32.3125 \r\nQ 14.796875 37.15625 21.921875 38.8125 \r\nz\r\nM 18.3125 54.390625 \r\nQ 18.3125 48.734375 21.84375 45.5625 \r\nQ 25.390625 42.390625 31.78125 42.390625 \r\nQ 38.140625 42.390625 41.71875 45.5625 \r\nQ 45.3125 48.734375 45.3125 54.390625 \r\nQ 45.3125 60.0625 41.71875 63.234375 \r\nQ 38.140625 66.40625 31.78125 66.40625 \r\nQ 25.390625 66.40625 21.84375 63.234375 \r\nQ 18.3125 60.0625 18.3125 54.390625 \r\nz\r\n\" id=\"DejaVuSans-56\"/>\r\n       </defs>\r\n       <use xlink:href=\"#DejaVuSans-56\"/>\r\n      </g>\r\n     </g>\r\n    </g>\r\n   </g>\r\n   <g id=\"matplotlib.axis_2\">\r\n    <g id=\"ytick_1\">\r\n     <g id=\"line2d_10\">\r\n      <defs>\r\n       <path d=\"M 0 0 \r\nL -3.5 0 \r\n\" id=\"ma4bec3ec63\" style=\"stroke:#000000;stroke-width:0.8;\"/>\r\n      </defs>\r\n      <g>\r\n       <use style=\"stroke:#000000;stroke-width:0.8;\" x=\"21.9425\" xlink:href=\"#ma4bec3ec63\" y=\"19.28\"/>\r\n      </g>\r\n     </g>\r\n     <g id=\"text_10\">\r\n      <!-- 0 -->\r\n      <g transform=\"translate(13.27875 21.330625)rotate(-90)scale(0.08 -0.08)\">\r\n       <use xlink:href=\"#DejaVuSans-48\"/>\r\n      </g>\r\n     </g>\r\n    </g>\r\n    <g id=\"ytick_2\">\r\n     <g id=\"line2d_11\">\r\n      <g>\r\n       <use style=\"stroke:#000000;stroke-width:0.8;\" x=\"21.9425\" xlink:href=\"#ma4bec3ec63\" y=\"43.44\"/>\r\n      </g>\r\n     </g>\r\n     <g id=\"text_11\">\r\n      <!-- 1 -->\r\n      <g transform=\"translate(13.27875 45.490625)rotate(-90)scale(0.08 -0.08)\">\r\n       <use xlink:href=\"#DejaVuSans-49\"/>\r\n      </g>\r\n     </g>\r\n    </g>\r\n    <g id=\"ytick_3\">\r\n     <g id=\"line2d_12\">\r\n      <g>\r\n       <use style=\"stroke:#000000;stroke-width:0.8;\" x=\"21.9425\" xlink:href=\"#ma4bec3ec63\" y=\"67.6\"/>\r\n      </g>\r\n     </g>\r\n     <g id=\"text_12\">\r\n      <!-- 2 -->\r\n      <g transform=\"translate(13.27875 69.650625)rotate(-90)scale(0.08 -0.08)\">\r\n       <use xlink:href=\"#DejaVuSans-50\"/>\r\n      </g>\r\n     </g>\r\n    </g>\r\n    <g id=\"ytick_4\">\r\n     <g id=\"line2d_13\">\r\n      <g>\r\n       <use style=\"stroke:#000000;stroke-width:0.8;\" x=\"21.9425\" xlink:href=\"#ma4bec3ec63\" y=\"91.76\"/>\r\n      </g>\r\n     </g>\r\n     <g id=\"text_13\">\r\n      <!-- 3 -->\r\n      <g transform=\"translate(13.27875 93.810625)rotate(-90)scale(0.08 -0.08)\">\r\n       <use xlink:href=\"#DejaVuSans-51\"/>\r\n      </g>\r\n     </g>\r\n    </g>\r\n    <g id=\"ytick_5\">\r\n     <g id=\"line2d_14\">\r\n      <g>\r\n       <use style=\"stroke:#000000;stroke-width:0.8;\" x=\"21.9425\" xlink:href=\"#ma4bec3ec63\" y=\"115.92\"/>\r\n      </g>\r\n     </g>\r\n     <g id=\"text_14\">\r\n      <!-- 4 -->\r\n      <g transform=\"translate(13.27875 117.970625)rotate(-90)scale(0.08 -0.08)\">\r\n       <use xlink:href=\"#DejaVuSans-52\"/>\r\n      </g>\r\n     </g>\r\n    </g>\r\n    <g id=\"ytick_6\">\r\n     <g id=\"line2d_15\">\r\n      <g>\r\n       <use style=\"stroke:#000000;stroke-width:0.8;\" x=\"21.9425\" xlink:href=\"#ma4bec3ec63\" y=\"140.08\"/>\r\n      </g>\r\n     </g>\r\n     <g id=\"text_15\">\r\n      <!-- 5 -->\r\n      <g transform=\"translate(13.27875 142.130625)rotate(-90)scale(0.08 -0.08)\">\r\n       <use xlink:href=\"#DejaVuSans-53\"/>\r\n      </g>\r\n     </g>\r\n    </g>\r\n    <g id=\"ytick_7\">\r\n     <g id=\"line2d_16\">\r\n      <g>\r\n       <use style=\"stroke:#000000;stroke-width:0.8;\" x=\"21.9425\" xlink:href=\"#ma4bec3ec63\" y=\"164.24\"/>\r\n      </g>\r\n     </g>\r\n     <g id=\"text_16\">\r\n      <!-- 6 -->\r\n      <g transform=\"translate(13.27875 166.290625)rotate(-90)scale(0.08 -0.08)\">\r\n       <use xlink:href=\"#DejaVuSans-54\"/>\r\n      </g>\r\n     </g>\r\n    </g>\r\n    <g id=\"ytick_8\">\r\n     <g id=\"line2d_17\">\r\n      <g>\r\n       <use style=\"stroke:#000000;stroke-width:0.8;\" x=\"21.9425\" xlink:href=\"#ma4bec3ec63\" y=\"188.4\"/>\r\n      </g>\r\n     </g>\r\n     <g id=\"text_17\">\r\n      <!-- 7 -->\r\n      <g transform=\"translate(13.27875 190.450625)rotate(-90)scale(0.08 -0.08)\">\r\n       <use xlink:href=\"#DejaVuSans-55\"/>\r\n      </g>\r\n     </g>\r\n    </g>\r\n    <g id=\"ytick_9\">\r\n     <g id=\"line2d_18\">\r\n      <g>\r\n       <use style=\"stroke:#000000;stroke-width:0.8;\" x=\"21.9425\" xlink:href=\"#ma4bec3ec63\" y=\"212.56\"/>\r\n      </g>\r\n     </g>\r\n     <g id=\"text_18\">\r\n      <!-- 8 -->\r\n      <g transform=\"translate(13.27875 214.610625)rotate(-90)scale(0.08 -0.08)\">\r\n       <use xlink:href=\"#DejaVuSans-56\"/>\r\n      </g>\r\n     </g>\r\n    </g>\r\n   </g>\r\n  </g>\r\n  <g id=\"axes_2\">\r\n   <g id=\"patch_3\">\r\n    <path clip-path=\"url(#p410d6190c5)\" d=\"M 306.5225 224.64 \r\nL 306.5225 223.790625 \r\nL 306.5225 8.049375 \r\nL 306.5225 7.2 \r\nL 317.3945 7.2 \r\nL 317.3945 8.049375 \r\nL 317.3945 223.790625 \r\nL 317.3945 224.64 \r\nz\r\n\" style=\"fill:#ffffff;stroke:#ffffff;stroke-linejoin:miter;stroke-width:0.01;\"/>\r\n   </g>\r\n   <image height=\"217\" id=\"image9b8f67bd3c\" transform=\"scale(1 -1)translate(0 -217)\" width=\"10\" x=\"307\" xlink:href=\"data:image/png;base64,\r\niVBORw0KGgoAAAANSUhEUgAAAAoAAADZCAYAAAAZmKE8AAABYElEQVR4nO3Y2W0EMQwDUMvWNpH+68ymg+AZoDBZIP4mSFGXx1P9+novOF1VgrsBrjTjqW3AHTez82a2molLc2XyefQSumtkHHCtjAON+wlmHmzcuHQvbjM7E7XOLyl1bbCZjavAjqfHXcdLyNJcwnzjTqQHGU9+ZlR6ooR/P8a89IkzbvoUHnHtu0cZOUZ2nZfu56S9hPGmeNJ1XLrfRjmxKZ6TZte10jFemElLn/WNjJjIgRgL57WPArcCWfqCkXA3rnEDTJhxacJdMJ6NjYtP14v05F3vVjPxPE6kBxk33pq94tIDwEYgvs0upC8Y8YvUGfF+7aXS+RgHpPHu8r8KHOMFUGNUMy6tfwvzrktdr2NvzYGEP5jHwhf2SAmVkWembeWOJFyHKy/Nrn33cGXS6XGgj+tzZpjxcOM+F+MHuK6KN4X3I08hS+dXc7qEdV5hxonGTeex8uP6b+aX8wORVCoj8tZ9rgAAAABJRU5ErkJggg==\" y=\"-7\"/>\r\n   <g id=\"matplotlib.axis_3\"/>\r\n   <g id=\"matplotlib.axis_4\">\r\n    <g id=\"ytick_10\">\r\n     <g id=\"line2d_19\">\r\n      <defs>\r\n       <path d=\"M 0 0 \r\nL 3.5 0 \r\n\" id=\"m2c9a20575d\" style=\"stroke:#000000;stroke-width:0.8;\"/>\r\n      </defs>\r\n      <g>\r\n       <use style=\"stroke:#000000;stroke-width:0.8;\" x=\"317.3945\" xlink:href=\"#m2c9a20575d\" y=\"187.546887\"/>\r\n      </g>\r\n     </g>\r\n     <g id=\"text_19\">\r\n      <!-- 0.1 -->\r\n      <g transform=\"translate(324.3945 190.586262)scale(0.08 -0.08)\">\r\n       <defs>\r\n        <path d=\"M 10.6875 12.40625 \r\nL 21 12.40625 \r\nL 21 0 \r\nL 10.6875 0 \r\nz\r\n\" id=\"DejaVuSans-46\"/>\r\n       </defs>\r\n       <use xlink:href=\"#DejaVuSans-48\"/>\r\n       <use x=\"63.623047\" xlink:href=\"#DejaVuSans-46\"/>\r\n       <use x=\"95.410156\" xlink:href=\"#DejaVuSans-49\"/>\r\n      </g>\r\n     </g>\r\n    </g>\r\n    <g id=\"ytick_11\">\r\n     <g id=\"line2d_20\">\r\n      <g>\r\n       <use style=\"stroke:#000000;stroke-width:0.8;\" x=\"317.3945\" xlink:href=\"#m2c9a20575d\" y=\"150.397918\"/>\r\n      </g>\r\n     </g>\r\n     <g id=\"text_20\">\r\n      <!-- 0.2 -->\r\n      <g transform=\"translate(324.3945 153.437293)scale(0.08 -0.08)\">\r\n       <use xlink:href=\"#DejaVuSans-48\"/>\r\n       <use x=\"63.623047\" xlink:href=\"#DejaVuSans-46\"/>\r\n       <use x=\"95.410156\" xlink:href=\"#DejaVuSans-50\"/>\r\n      </g>\r\n     </g>\r\n    </g>\r\n    <g id=\"ytick_12\">\r\n     <g id=\"line2d_21\">\r\n      <g>\r\n       <use style=\"stroke:#000000;stroke-width:0.8;\" x=\"317.3945\" xlink:href=\"#m2c9a20575d\" y=\"113.248949\"/>\r\n      </g>\r\n     </g>\r\n     <g id=\"text_21\">\r\n      <!-- 0.3 -->\r\n      <g transform=\"translate(324.3945 116.288324)scale(0.08 -0.08)\">\r\n       <use xlink:href=\"#DejaVuSans-48\"/>\r\n       <use x=\"63.623047\" xlink:href=\"#DejaVuSans-46\"/>\r\n       <use x=\"95.410156\" xlink:href=\"#DejaVuSans-51\"/>\r\n      </g>\r\n     </g>\r\n    </g>\r\n    <g id=\"ytick_13\">\r\n     <g id=\"line2d_22\">\r\n      <g>\r\n       <use style=\"stroke:#000000;stroke-width:0.8;\" x=\"317.3945\" xlink:href=\"#m2c9a20575d\" y=\"76.099979\"/>\r\n      </g>\r\n     </g>\r\n     <g id=\"text_22\">\r\n      <!-- 0.4 -->\r\n      <g transform=\"translate(324.3945 79.139354)scale(0.08 -0.08)\">\r\n       <use xlink:href=\"#DejaVuSans-48\"/>\r\n       <use x=\"63.623047\" xlink:href=\"#DejaVuSans-46\"/>\r\n       <use x=\"95.410156\" xlink:href=\"#DejaVuSans-52\"/>\r\n      </g>\r\n     </g>\r\n    </g>\r\n    <g id=\"ytick_14\">\r\n     <g id=\"line2d_23\">\r\n      <g>\r\n       <use style=\"stroke:#000000;stroke-width:0.8;\" x=\"317.3945\" xlink:href=\"#m2c9a20575d\" y=\"38.95101\"/>\r\n      </g>\r\n     </g>\r\n     <g id=\"text_23\">\r\n      <!-- 0.5 -->\r\n      <g transform=\"translate(324.3945 41.990385)scale(0.08 -0.08)\">\r\n       <use xlink:href=\"#DejaVuSans-48\"/>\r\n       <use x=\"63.623047\" xlink:href=\"#DejaVuSans-46\"/>\r\n       <use x=\"95.410156\" xlink:href=\"#DejaVuSans-53\"/>\r\n      </g>\r\n     </g>\r\n    </g>\r\n   </g>\r\n   <g id=\"patch_4\">\r\n    <path d=\"M 306.5225 224.64 \r\nL 306.5225 223.790625 \r\nL 306.5225 8.049375 \r\nL 306.5225 7.2 \r\nL 317.3945 7.2 \r\nL 317.3945 8.049375 \r\nL 317.3945 223.790625 \r\nL 317.3945 224.64 \r\nz\r\n\" style=\"fill:none;\"/>\r\n   </g>\r\n  </g>\r\n </g>\r\n <defs>\r\n  <clipPath id=\"p0801bf5cbe\">\r\n   <rect height=\"217.44\" width=\"267.84\" x=\"21.9425\" y=\"7.2\"/>\r\n  </clipPath>\r\n  <clipPath id=\"p410d6190c5\">\r\n   <rect height=\"217.44\" width=\"10.872\" x=\"306.5225\" y=\"7.2\"/>\r\n  </clipPath>\r\n </defs>\r\n</svg>\r\n",
      "image/png": "[encoded data removed]"
     },
     "metadata": {
      "needs_background": "light"
     }
    }
   ],
   "source": [
    "plot_attn(x, y, all_attn, lens)"
   ]
  },
  {
   "cell_type": "code",
   "execution_count": 25,
   "metadata": {},
   "outputs": [
    {
     "output_type": "execute_result",
     "data": {
      "text/plain": [
       "tensor([[0.3907],\n",
       "        [0.4869],\n",
       "        [0.4944],\n",
       "        [0.7175],\n",
       "        [0.1620],\n",
       "        [0.8017],\n",
       "        [0.7655],\n",
       "        [0.8868],\n",
       "        [0.8743],\n",
       "        [0.5867],\n",
       "        [0.3088],\n",
       "        [0.5030],\n",
       "        [0.8965],\n",
       "        [0.8848],\n",
       "        [0.3936],\n",
       "        [0.7878],\n",
       "        [0.3068],\n",
       "        [0.8691],\n",
       "        [0.0271],\n",
       "        [0.0050]], device='cuda:0', grad_fn=<SelectBackward>)"
      ]
     },
     "metadata": {},
     "execution_count": 25
    }
   ],
   "source": [
    "decoded_rev[0]"
   ]
  },
  {
   "cell_type": "code",
   "execution_count": 46,
   "metadata": {},
   "outputs": [
    {
     "output_type": "execute_result",
     "data": {
      "text/plain": [
       "tensor([5., 3., 5., 1., 2., 1., 3., 3., 5., 3., 8., 6., 7., 3., 4., 3., 8., 2.,\n",
       "        1., 3.], device='cuda:0')"
      ]
     },
     "metadata": {},
     "execution_count": 46
    }
   ],
   "source": [
    "x[1].view(-1)*10"
   ]
  },
  {
   "cell_type": "code",
   "execution_count": 10,
   "metadata": {},
   "outputs": [
    {
     "output_type": "execute_result",
     "data": {
      "text/plain": [
       "torch.Size([20, 2, 20])"
      ]
     },
     "metadata": {},
     "execution_count": 10
    }
   ],
   "source": [
    "all_attn.shape"
   ]
  },
  {
   "cell_type": "code",
   "execution_count": 28,
   "metadata": {},
   "outputs": [],
   "source": [
    "first_attn = all_attn[:, 1, :]"
   ]
  },
  {
   "cell_type": "code",
   "execution_count": 13,
   "metadata": {},
   "outputs": [
    {
     "output_type": "execute_result",
     "data": {
      "text/plain": [
       "torch.Size([20, 20])"
      ]
     },
     "metadata": {},
     "execution_count": 13
    }
   ],
   "source": [
    "first_attn.shape"
   ]
  },
  {
   "cell_type": "code",
   "execution_count": 30,
   "metadata": {},
   "outputs": [
    {
     "output_type": "display_data",
     "data": {
      "text/plain": "<Figure size 432x288 with 1 Axes>",
      "image/svg+xml": "<?xml version=\"1.0\" encoding=\"utf-8\" standalone=\"no\"?>\r\n<!DOCTYPE svg PUBLIC \"-//W3C//DTD SVG 1.1//EN\"\r\n  \"http://www.w3.org/Graphics/SVG/1.1/DTD/svg11.dtd\">\r\n<!-- Created with matplotlib (https://matplotlib.org/) -->\r\n<svg height=\"246.5825pt\" version=\"1.1\" viewBox=\"0 0 256.6525 246.5825\" width=\"256.6525pt\" xmlns=\"http://www.w3.org/2000/svg\" xmlns:xlink=\"http://www.w3.org/1999/xlink\">\r\n <metadata>\r\n  <rdf:RDF xmlns:cc=\"http://creativecommons.org/ns#\" xmlns:dc=\"http://purl.org/dc/elements/1.1/\" xmlns:rdf=\"http://www.w3.org/1999/02/22-rdf-syntax-ns#\">\r\n   <cc:Work>\r\n    <dc:type rdf:resource=\"http://purl.org/dc/dcmitype/StillImage\"/>\r\n    <dc:date>2021-07-18T10:42:46.274962</dc:date>\r\n    <dc:format>image/svg+xml</dc:format>\r\n    <dc:creator>\r\n     <cc:Agent>\r\n      <dc:title>Matplotlib v3.3.2, https://matplotlib.org/</dc:title>\r\n     </cc:Agent>\r\n    </dc:creator>\r\n   </cc:Work>\r\n  </rdf:RDF>\r\n </metadata>\r\n <defs>\r\n  <style type=\"text/css\">*{stroke-linecap:butt;stroke-linejoin:round;}</style>\r\n </defs>\r\n <g id=\"figure_1\">\r\n  <g id=\"patch_1\">\r\n   <path d=\"M 0 246.5825 \r\nL 256.6525 246.5825 \r\nL 256.6525 0 \r\nL 0 0 \r\nz\r\n\" style=\"fill:none;\"/>\r\n  </g>\r\n  <g id=\"axes_1\">\r\n   <g id=\"patch_2\">\r\n    <path d=\"M 32.0125 224.64 \r\nL 249.4525 224.64 \r\nL 249.4525 7.2 \r\nL 32.0125 7.2 \r\nz\r\n\" style=\"fill:#ffffff;\"/>\r\n   </g>\r\n   <g clip-path=\"url(#pb7abc95e9e)\">\r\n    <image height=\"218\" id=\"image99796682a5\" transform=\"scale(1 -1)translate(0 -218)\" width=\"218\" x=\"32.0125\" xlink:href=\"data:image/png;base64,\r\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\" y=\"-6.64\"/>\r\n   </g>\r\n   <g id=\"matplotlib.axis_1\">\r\n    <g id=\"xtick_1\">\r\n     <g id=\"line2d_1\">\r\n      <defs>\r\n       <path d=\"M 0 0 \r\nL 0 3.5 \r\n\" id=\"m8b72fd18c0\" style=\"stroke:#000000;stroke-width:0.8;\"/>\r\n      </defs>\r\n      <g>\r\n       <use style=\"stroke:#000000;stroke-width:0.8;\" x=\"37.4485\" xlink:href=\"#m8b72fd18c0\" y=\"224.64\"/>\r\n      </g>\r\n     </g>\r\n     <g id=\"text_1\">\r\n      <!-- 0.0 -->\r\n      <g transform=\"translate(31.08725 237.71875)scale(0.08 -0.08)\">\r\n       <defs>\r\n        <path d=\"M 31.78125 66.40625 \r\nQ 24.171875 66.40625 20.328125 58.90625 \r\nQ 16.5 51.421875 16.5 36.375 \r\nQ 16.5 21.390625 20.328125 13.890625 \r\nQ 24.171875 6.390625 31.78125 6.390625 \r\nQ 39.453125 6.390625 43.28125 13.890625 \r\nQ 47.125 21.390625 47.125 36.375 \r\nQ 47.125 51.421875 43.28125 58.90625 \r\nQ 39.453125 66.40625 31.78125 66.40625 \r\nz\r\nM 31.78125 74.21875 \r\nQ 44.046875 74.21875 50.515625 64.515625 \r\nQ 56.984375 54.828125 56.984375 36.375 \r\nQ 56.984375 17.96875 50.515625 8.265625 \r\nQ 44.046875 -1.421875 31.78125 -1.421875 \r\nQ 19.53125 -1.421875 13.0625 8.265625 \r\nQ 6.59375 17.96875 6.59375 36.375 \r\nQ 6.59375 54.828125 13.0625 64.515625 \r\nQ 19.53125 74.21875 31.78125 74.21875 \r\nz\r\n\" id=\"DejaVuSans-48\"/>\r\n        <path d=\"M 10.6875 12.40625 \r\nL 21 12.40625 \r\nL 21 0 \r\nL 10.6875 0 \r\nz\r\n\" id=\"DejaVuSans-46\"/>\r\n       </defs>\r\n       <use xlink:href=\"#DejaVuSans-48\"/>\r\n       <use x=\"63.623047\" xlink:href=\"#DejaVuSans-46\"/>\r\n       <use x=\"95.410156\" xlink:href=\"#DejaVuSans-48\"/>\r\n      </g>\r\n     </g>\r\n    </g>\r\n    <g id=\"xtick_2\">\r\n     <g id=\"line2d_2\">\r\n      <g>\r\n       <use style=\"stroke:#000000;stroke-width:0.8;\" x=\"64.6285\" xlink:href=\"#m8b72fd18c0\" y=\"224.64\"/>\r\n      </g>\r\n     </g>\r\n     <g id=\"text_2\">\r\n      <!-- 2.5 -->\r\n      <g transform=\"translate(58.26725 237.71875)scale(0.08 -0.08)\">\r\n       <defs>\r\n        <path d=\"M 19.1875 8.296875 \r\nL 53.609375 8.296875 \r\nL 53.609375 0 \r\nL 7.328125 0 \r\nL 7.328125 8.296875 \r\nQ 12.9375 14.109375 22.625 23.890625 \r\nQ 32.328125 33.6875 34.8125 36.53125 \r\nQ 39.546875 41.84375 41.421875 45.53125 \r\nQ 43.3125 49.21875 43.3125 52.78125 \r\nQ 43.3125 58.59375 39.234375 62.25 \r\nQ 35.15625 65.921875 28.609375 65.921875 \r\nQ 23.96875 65.921875 18.8125 64.3125 \r\nQ 13.671875 62.703125 7.8125 59.421875 \r\nL 7.8125 69.390625 \r\nQ 13.765625 71.78125 18.9375 73 \r\nQ 24.125 74.21875 28.421875 74.21875 \r\nQ 39.75 74.21875 46.484375 68.546875 \r\nQ 53.21875 62.890625 53.21875 53.421875 \r\nQ 53.21875 48.921875 51.53125 44.890625 \r\nQ 49.859375 40.875 45.40625 35.40625 \r\nQ 44.1875 33.984375 37.640625 27.21875 \r\nQ 31.109375 20.453125 19.1875 8.296875 \r\nz\r\n\" id=\"DejaVuSans-50\"/>\r\n        <path d=\"M 10.796875 72.90625 \r\nL 49.515625 72.90625 \r\nL 49.515625 64.59375 \r\nL 19.828125 64.59375 \r\nL 19.828125 46.734375 \r\nQ 21.96875 47.46875 24.109375 47.828125 \r\nQ 26.265625 48.1875 28.421875 48.1875 \r\nQ 40.625 48.1875 47.75 41.5 \r\nQ 54.890625 34.8125 54.890625 23.390625 \r\nQ 54.890625 11.625 47.5625 5.09375 \r\nQ 40.234375 -1.421875 26.90625 -1.421875 \r\nQ 22.3125 -1.421875 17.546875 -0.640625 \r\nQ 12.796875 0.140625 7.71875 1.703125 \r\nL 7.71875 11.625 \r\nQ 12.109375 9.234375 16.796875 8.0625 \r\nQ 21.484375 6.890625 26.703125 6.890625 \r\nQ 35.15625 6.890625 40.078125 11.328125 \r\nQ 45.015625 15.765625 45.015625 23.390625 \r\nQ 45.015625 31 40.078125 35.4375 \r\nQ 35.15625 39.890625 26.703125 39.890625 \r\nQ 22.75 39.890625 18.8125 39.015625 \r\nQ 14.890625 38.140625 10.796875 36.28125 \r\nz\r\n\" id=\"DejaVuSans-53\"/>\r\n       </defs>\r\n       <use xlink:href=\"#DejaVuSans-50\"/>\r\n       <use x=\"63.623047\" xlink:href=\"#DejaVuSans-46\"/>\r\n       <use x=\"95.410156\" xlink:href=\"#DejaVuSans-53\"/>\r\n      </g>\r\n     </g>\r\n    </g>\r\n    <g id=\"xtick_3\">\r\n     <g id=\"line2d_3\">\r\n      <g>\r\n       <use style=\"stroke:#000000;stroke-width:0.8;\" x=\"91.8085\" xlink:href=\"#m8b72fd18c0\" y=\"224.64\"/>\r\n      </g>\r\n     </g>\r\n     <g id=\"text_3\">\r\n      <!-- 5.0 -->\r\n      <g transform=\"translate(85.44725 237.71875)scale(0.08 -0.08)\">\r\n       <use xlink:href=\"#DejaVuSans-53\"/>\r\n       <use x=\"63.623047\" xlink:href=\"#DejaVuSans-46\"/>\r\n       <use x=\"95.410156\" xlink:href=\"#DejaVuSans-48\"/>\r\n      </g>\r\n     </g>\r\n    </g>\r\n    <g id=\"xtick_4\">\r\n     <g id=\"line2d_4\">\r\n      <g>\r\n       <use style=\"stroke:#000000;stroke-width:0.8;\" x=\"118.9885\" xlink:href=\"#m8b72fd18c0\" y=\"224.64\"/>\r\n      </g>\r\n     </g>\r\n     <g id=\"text_4\">\r\n      <!-- 7.5 -->\r\n      <g transform=\"translate(112.62725 237.71875)scale(0.08 -0.08)\">\r\n       <defs>\r\n        <path d=\"M 8.203125 72.90625 \r\nL 55.078125 72.90625 \r\nL 55.078125 68.703125 \r\nL 28.609375 0 \r\nL 18.3125 0 \r\nL 43.21875 64.59375 \r\nL 8.203125 64.59375 \r\nz\r\n\" id=\"DejaVuSans-55\"/>\r\n       </defs>\r\n       <use xlink:href=\"#DejaVuSans-55\"/>\r\n       <use x=\"63.623047\" xlink:href=\"#DejaVuSans-46\"/>\r\n       <use x=\"95.410156\" xlink:href=\"#DejaVuSans-53\"/>\r\n      </g>\r\n     </g>\r\n    </g>\r\n    <g id=\"xtick_5\">\r\n     <g id=\"line2d_5\">\r\n      <g>\r\n       <use style=\"stroke:#000000;stroke-width:0.8;\" x=\"146.1685\" xlink:href=\"#m8b72fd18c0\" y=\"224.64\"/>\r\n      </g>\r\n     </g>\r\n     <g id=\"text_5\">\r\n      <!-- 10.0 -->\r\n      <g transform=\"translate(137.26225 237.71875)scale(0.08 -0.08)\">\r\n       <defs>\r\n        <path d=\"M 12.40625 8.296875 \r\nL 28.515625 8.296875 \r\nL 28.515625 63.921875 \r\nL 10.984375 60.40625 \r\nL 10.984375 69.390625 \r\nL 28.421875 72.90625 \r\nL 38.28125 72.90625 \r\nL 38.28125 8.296875 \r\nL 54.390625 8.296875 \r\nL 54.390625 0 \r\nL 12.40625 0 \r\nz\r\n\" id=\"DejaVuSans-49\"/>\r\n       </defs>\r\n       <use xlink:href=\"#DejaVuSans-49\"/>\r\n       <use x=\"63.623047\" xlink:href=\"#DejaVuSans-48\"/>\r\n       <use x=\"127.246094\" xlink:href=\"#DejaVuSans-46\"/>\r\n       <use x=\"159.033203\" xlink:href=\"#DejaVuSans-48\"/>\r\n      </g>\r\n     </g>\r\n    </g>\r\n    <g id=\"xtick_6\">\r\n     <g id=\"line2d_6\">\r\n      <g>\r\n       <use style=\"stroke:#000000;stroke-width:0.8;\" x=\"173.3485\" xlink:href=\"#m8b72fd18c0\" y=\"224.64\"/>\r\n      </g>\r\n     </g>\r\n     <g id=\"text_6\">\r\n      <!-- 12.5 -->\r\n      <g transform=\"translate(164.44225 237.71875)scale(0.08 -0.08)\">\r\n       <use xlink:href=\"#DejaVuSans-49\"/>\r\n       <use x=\"63.623047\" xlink:href=\"#DejaVuSans-50\"/>\r\n       <use x=\"127.246094\" xlink:href=\"#DejaVuSans-46\"/>\r\n       <use x=\"159.033203\" xlink:href=\"#DejaVuSans-53\"/>\r\n      </g>\r\n     </g>\r\n    </g>\r\n    <g id=\"xtick_7\">\r\n     <g id=\"line2d_7\">\r\n      <g>\r\n       <use style=\"stroke:#000000;stroke-width:0.8;\" x=\"200.5285\" xlink:href=\"#m8b72fd18c0\" y=\"224.64\"/>\r\n      </g>\r\n     </g>\r\n     <g id=\"text_7\">\r\n      <!-- 15.0 -->\r\n      <g transform=\"translate(191.62225 237.71875)scale(0.08 -0.08)\">\r\n       <use xlink:href=\"#DejaVuSans-49\"/>\r\n       <use x=\"63.623047\" xlink:href=\"#DejaVuSans-53\"/>\r\n       <use x=\"127.246094\" xlink:href=\"#DejaVuSans-46\"/>\r\n       <use x=\"159.033203\" xlink:href=\"#DejaVuSans-48\"/>\r\n      </g>\r\n     </g>\r\n    </g>\r\n    <g id=\"xtick_8\">\r\n     <g id=\"line2d_8\">\r\n      <g>\r\n       <use style=\"stroke:#000000;stroke-width:0.8;\" x=\"227.7085\" xlink:href=\"#m8b72fd18c0\" y=\"224.64\"/>\r\n      </g>\r\n     </g>\r\n     <g id=\"text_8\">\r\n      <!-- 17.5 -->\r\n      <g transform=\"translate(218.80225 237.71875)scale(0.08 -0.08)\">\r\n       <use xlink:href=\"#DejaVuSans-49\"/>\r\n       <use x=\"63.623047\" xlink:href=\"#DejaVuSans-55\"/>\r\n       <use x=\"127.246094\" xlink:href=\"#DejaVuSans-46\"/>\r\n       <use x=\"159.033203\" xlink:href=\"#DejaVuSans-53\"/>\r\n      </g>\r\n     </g>\r\n    </g>\r\n   </g>\r\n   <g id=\"matplotlib.axis_2\">\r\n    <g id=\"ytick_1\">\r\n     <g id=\"line2d_9\">\r\n      <defs>\r\n       <path d=\"M 0 0 \r\nL -3.5 0 \r\n\" id=\"m1c7d03cada\" style=\"stroke:#000000;stroke-width:0.8;\"/>\r\n      </defs>\r\n      <g>\r\n       <use style=\"stroke:#000000;stroke-width:0.8;\" x=\"32.0125\" xlink:href=\"#m1c7d03cada\" y=\"12.636\"/>\r\n      </g>\r\n     </g>\r\n     <g id=\"text_9\">\r\n      <!-- 0.0 -->\r\n      <g transform=\"translate(12.29 15.675375)scale(0.08 -0.08)\">\r\n       <use xlink:href=\"#DejaVuSans-48\"/>\r\n       <use x=\"63.623047\" xlink:href=\"#DejaVuSans-46\"/>\r\n       <use x=\"95.410156\" xlink:href=\"#DejaVuSans-48\"/>\r\n      </g>\r\n     </g>\r\n    </g>\r\n    <g id=\"ytick_2\">\r\n     <g id=\"line2d_10\">\r\n      <g>\r\n       <use style=\"stroke:#000000;stroke-width:0.8;\" x=\"32.0125\" xlink:href=\"#m1c7d03cada\" y=\"39.816\"/>\r\n      </g>\r\n     </g>\r\n     <g id=\"text_10\">\r\n      <!-- 2.5 -->\r\n      <g transform=\"translate(12.29 42.855375)scale(0.08 -0.08)\">\r\n       <use xlink:href=\"#DejaVuSans-50\"/>\r\n       <use x=\"63.623047\" xlink:href=\"#DejaVuSans-46\"/>\r\n       <use x=\"95.410156\" xlink:href=\"#DejaVuSans-53\"/>\r\n      </g>\r\n     </g>\r\n    </g>\r\n    <g id=\"ytick_3\">\r\n     <g id=\"line2d_11\">\r\n      <g>\r\n       <use style=\"stroke:#000000;stroke-width:0.8;\" x=\"32.0125\" xlink:href=\"#m1c7d03cada\" y=\"66.996\"/>\r\n      </g>\r\n     </g>\r\n     <g id=\"text_11\">\r\n      <!-- 5.0 -->\r\n      <g transform=\"translate(12.29 70.035375)scale(0.08 -0.08)\">\r\n       <use xlink:href=\"#DejaVuSans-53\"/>\r\n       <use x=\"63.623047\" xlink:href=\"#DejaVuSans-46\"/>\r\n       <use x=\"95.410156\" xlink:href=\"#DejaVuSans-48\"/>\r\n      </g>\r\n     </g>\r\n    </g>\r\n    <g id=\"ytick_4\">\r\n     <g id=\"line2d_12\">\r\n      <g>\r\n       <use style=\"stroke:#000000;stroke-width:0.8;\" x=\"32.0125\" xlink:href=\"#m1c7d03cada\" y=\"94.176\"/>\r\n      </g>\r\n     </g>\r\n     <g id=\"text_12\">\r\n      <!-- 7.5 -->\r\n      <g transform=\"translate(12.29 97.215375)scale(0.08 -0.08)\">\r\n       <use xlink:href=\"#DejaVuSans-55\"/>\r\n       <use x=\"63.623047\" xlink:href=\"#DejaVuSans-46\"/>\r\n       <use x=\"95.410156\" xlink:href=\"#DejaVuSans-53\"/>\r\n      </g>\r\n     </g>\r\n    </g>\r\n    <g id=\"ytick_5\">\r\n     <g id=\"line2d_13\">\r\n      <g>\r\n       <use style=\"stroke:#000000;stroke-width:0.8;\" x=\"32.0125\" xlink:href=\"#m1c7d03cada\" y=\"121.356\"/>\r\n      </g>\r\n     </g>\r\n     <g id=\"text_13\">\r\n      <!-- 10.0 -->\r\n      <g transform=\"translate(7.2 124.395375)scale(0.08 -0.08)\">\r\n       <use xlink:href=\"#DejaVuSans-49\"/>\r\n       <use x=\"63.623047\" xlink:href=\"#DejaVuSans-48\"/>\r\n       <use x=\"127.246094\" xlink:href=\"#DejaVuSans-46\"/>\r\n       <use x=\"159.033203\" xlink:href=\"#DejaVuSans-48\"/>\r\n      </g>\r\n     </g>\r\n    </g>\r\n    <g id=\"ytick_6\">\r\n     <g id=\"line2d_14\">\r\n      <g>\r\n       <use style=\"stroke:#000000;stroke-width:0.8;\" x=\"32.0125\" xlink:href=\"#m1c7d03cada\" y=\"148.536\"/>\r\n      </g>\r\n     </g>\r\n     <g id=\"text_14\">\r\n      <!-- 12.5 -->\r\n      <g transform=\"translate(7.2 151.575375)scale(0.08 -0.08)\">\r\n       <use xlink:href=\"#DejaVuSans-49\"/>\r\n       <use x=\"63.623047\" xlink:href=\"#DejaVuSans-50\"/>\r\n       <use x=\"127.246094\" xlink:href=\"#DejaVuSans-46\"/>\r\n       <use x=\"159.033203\" xlink:href=\"#DejaVuSans-53\"/>\r\n      </g>\r\n     </g>\r\n    </g>\r\n    <g id=\"ytick_7\">\r\n     <g id=\"line2d_15\">\r\n      <g>\r\n       <use style=\"stroke:#000000;stroke-width:0.8;\" x=\"32.0125\" xlink:href=\"#m1c7d03cada\" y=\"175.716\"/>\r\n      </g>\r\n     </g>\r\n     <g id=\"text_15\">\r\n      <!-- 15.0 -->\r\n      <g transform=\"translate(7.2 178.755375)scale(0.08 -0.08)\">\r\n       <use xlink:href=\"#DejaVuSans-49\"/>\r\n       <use x=\"63.623047\" xlink:href=\"#DejaVuSans-53\"/>\r\n       <use x=\"127.246094\" xlink:href=\"#DejaVuSans-46\"/>\r\n       <use x=\"159.033203\" xlink:href=\"#DejaVuSans-48\"/>\r\n      </g>\r\n     </g>\r\n    </g>\r\n    <g id=\"ytick_8\">\r\n     <g id=\"line2d_16\">\r\n      <g>\r\n       <use style=\"stroke:#000000;stroke-width:0.8;\" x=\"32.0125\" xlink:href=\"#m1c7d03cada\" y=\"202.896\"/>\r\n      </g>\r\n     </g>\r\n     <g id=\"text_16\">\r\n      <!-- 17.5 -->\r\n      <g transform=\"translate(7.2 205.935375)scale(0.08 -0.08)\">\r\n       <use xlink:href=\"#DejaVuSans-49\"/>\r\n       <use x=\"63.623047\" xlink:href=\"#DejaVuSans-55\"/>\r\n       <use x=\"127.246094\" xlink:href=\"#DejaVuSans-46\"/>\r\n       <use x=\"159.033203\" xlink:href=\"#DejaVuSans-53\"/>\r\n      </g>\r\n     </g>\r\n    </g>\r\n   </g>\r\n   <g id=\"patch_3\">\r\n    <path d=\"M 32.0125 224.64 \r\nL 32.0125 7.2 \r\n\" style=\"fill:none;stroke:#000000;stroke-linecap:square;stroke-linejoin:miter;stroke-width:0.8;\"/>\r\n   </g>\r\n   <g id=\"patch_4\">\r\n    <path d=\"M 249.4525 224.64 \r\nL 249.4525 7.2 \r\n\" style=\"fill:none;stroke:#000000;stroke-linecap:square;stroke-linejoin:miter;stroke-width:0.8;\"/>\r\n   </g>\r\n   <g id=\"patch_5\">\r\n    <path d=\"M 32.0125 224.64 \r\nL 249.4525 224.64 \r\n\" style=\"fill:none;stroke:#000000;stroke-linecap:square;stroke-linejoin:miter;stroke-width:0.8;\"/>\r\n   </g>\r\n   <g id=\"patch_6\">\r\n    <path d=\"M 32.0125 7.2 \r\nL 249.4525 7.2 \r\n\" style=\"fill:none;stroke:#000000;stroke-linecap:square;stroke-linejoin:miter;stroke-width:0.8;\"/>\r\n   </g>\r\n  </g>\r\n </g>\r\n <defs>\r\n  <clipPath id=\"pb7abc95e9e\">\r\n   <rect height=\"217.44\" width=\"217.44\" x=\"32.0125\" y=\"7.2\"/>\r\n  </clipPath>\r\n </defs>\r\n</svg>\r\n",
      "image/png": "[encoded data removed]"
     },
     "metadata": {
      "needs_background": "light"
     }
    }
   ],
   "source": [
    "plt.imshow(first_attn.detach().cpu().numpy(), cmap='hot')\n",
    "plt.show()"
   ]
  },
  {
   "cell_type": "code",
   "execution_count": 16,
   "metadata": {},
   "outputs": [
    {
     "output_type": "execute_result",
     "data": {
      "text/plain": [
       "tensor([[0.4000],\n",
       "        [0.5000],\n",
       "        [0.5000],\n",
       "        [0.7000],\n",
       "        [0.2000],\n",
       "        [0.8000],\n",
       "        [0.8000],\n",
       "        [0.9000],\n",
       "        [0.9000],\n",
       "        [0.6000],\n",
       "        [0.3000],\n",
       "        [0.5000],\n",
       "        [0.9000],\n",
       "        [0.9000],\n",
       "        [0.4000],\n",
       "        [0.8000],\n",
       "        [0.3000],\n",
       "        [0.9000],\n",
       "        [0.0000],\n",
       "        [0.0000]], device='cuda:0')"
      ]
     },
     "metadata": {},
     "execution_count": 16
    }
   ],
   "source": [
    "y[0]"
   ]
  },
  {
   "cell_type": "code",
   "execution_count": null,
   "metadata": {},
   "outputs": [],
   "source": [
    "drop_z_first_attn = first_attn[]"
   ]
  },
  {
   "cell_type": "code",
   "execution_count": 20,
   "metadata": {},
   "outputs": [],
   "source": [
    "k = np.arange(25).reshape((5,5))"
   ]
  },
  {
   "cell_type": "code",
   "execution_count": 21,
   "metadata": {},
   "outputs": [
    {
     "output_type": "execute_result",
     "data": {
      "text/plain": [
       "array([[ 0,  1,  2],\n",
       "       [ 5,  6,  7],\n",
       "       [10, 11, 12]])"
      ]
     },
     "metadata": {},
     "execution_count": 21
    }
   ],
   "source": [
    "k[:3, :3]"
   ]
  },
  {
   "cell_type": "code",
   "execution_count": 22,
   "metadata": {},
   "outputs": [
    {
     "output_type": "execute_result",
     "data": {
      "text/plain": [
       "array([[ 0,  1,  2,  3,  4],\n",
       "       [ 5,  6,  7,  8,  9],\n",
       "       [10, 11, 12, 13, 14],\n",
       "       [15, 16, 17, 18, 19],\n",
       "       [20, 21, 22, 23, 24]])"
      ]
     },
     "metadata": {},
     "execution_count": 22
    }
   ],
   "source": [
    "k"
   ]
  },
  {
   "cell_type": "code",
   "execution_count": 27,
   "metadata": {},
   "outputs": [
    {
     "output_type": "execute_result",
     "data": {
      "text/plain": [
       "tensor([18., 20.])"
      ]
     },
     "metadata": {},
     "execution_count": 27
    }
   ],
   "source": [
    "lens"
   ]
  },
  {
   "cell_type": "code",
   "execution_count": null,
   "metadata": {},
   "outputs": [],
   "source": []
  }
 ]
}